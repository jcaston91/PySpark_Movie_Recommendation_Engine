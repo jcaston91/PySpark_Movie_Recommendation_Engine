{
 "cells": [
  {
   "cell_type": "code",
   "execution_count": 177,
   "metadata": {},
   "outputs": [],
   "source": [
    "from pyspark.ml.evaluation import RegressionEvaluator\n",
    "from pyspark.ml.recommendation import ALS\n",
    "from pyspark.sql import Row\n",
    "import pyspark.sql.functions as f\n",
    "from pyspark.sql.functions import split, explode\n",
    "from pyspark.sql.functions import lit"
   ]
  },
  {
   "cell_type": "code",
   "execution_count": 7,
   "metadata": {},
   "outputs": [],
   "source": [
    "movies = spark.read.load(\n",
    "  \"D:/school/Masters Data Science/Spring 2020/DSC650_Big Data/dsc650-master/dsc650-master/data/movielens/movies.csv\",\n",
    "  format=\"csv\",\n",
    "  sep=\",\",\n",
    "  inferSchema=True,\n",
    "  header=True)\n",
    "    \n",
    "ratings = spark.read.load(\n",
    "  \"D:/school/Masters Data Science/Spring 2020/DSC650_Big Data/dsc650-master/dsc650-master/data/movielens/ratings.csv\",\n",
    "  format=\"csv\",\n",
    "  sep=\",\",\n",
    "  inferSchema=True,\n",
    "  header=True)"
   ]
  },
  {
   "cell_type": "code",
   "execution_count": 8,
   "metadata": {},
   "outputs": [
    {
     "name": "stdout",
     "output_type": "stream",
     "text": [
      "root\n",
      " |-- movieId: integer (nullable = true)\n",
      " |-- title: string (nullable = true)\n",
      " |-- genres: string (nullable = true)\n",
      "\n"
     ]
    }
   ],
   "source": [
    "movies.printSchema()"
   ]
  },
  {
   "cell_type": "code",
   "execution_count": 18,
   "metadata": {},
   "outputs": [
    {
     "name": "stdout",
     "output_type": "stream",
     "text": [
      "root\n",
      " |-- userId: integer (nullable = true)\n",
      " |-- movieId: integer (nullable = true)\n",
      " |-- rating: double (nullable = true)\n",
      " |-- timestamp: integer (nullable = true)\n",
      "\n"
     ]
    }
   ],
   "source": [
    "ratings.printSchema()"
   ]
  },
  {
   "cell_type": "code",
   "execution_count": 19,
   "metadata": {},
   "outputs": [
    {
     "name": "stdout",
     "output_type": "stream",
     "text": [
      "+-------+--------------------+--------------------+\n",
      "|movieId|               title|              genres|\n",
      "+-------+--------------------+--------------------+\n",
      "|      1|    Toy Story (1995)|Adventure|Animati...|\n",
      "|      2|      Jumanji (1995)|Adventure|Childre...|\n",
      "|      3|Grumpier Old Men ...|      Comedy|Romance|\n",
      "|      4|Waiting to Exhale...|Comedy|Drama|Romance|\n",
      "|      5|Father of the Bri...|              Comedy|\n",
      "|      6|         Heat (1995)|Action|Crime|Thri...|\n",
      "|      7|      Sabrina (1995)|      Comedy|Romance|\n",
      "|      8| Tom and Huck (1995)|  Adventure|Children|\n",
      "|      9| Sudden Death (1995)|              Action|\n",
      "|     10|    GoldenEye (1995)|Action|Adventure|...|\n",
      "+-------+--------------------+--------------------+\n",
      "only showing top 10 rows\n",
      "\n"
     ]
    }
   ],
   "source": [
    "movies.show(10)"
   ]
  },
  {
   "cell_type": "code",
   "execution_count": 20,
   "metadata": {},
   "outputs": [
    {
     "name": "stdout",
     "output_type": "stream",
     "text": [
      "+------+-------+------+---------+\n",
      "|userId|movieId|rating|timestamp|\n",
      "+------+-------+------+---------+\n",
      "|     1|      1|   4.0|964982703|\n",
      "|     1|      3|   4.0|964981247|\n",
      "|     1|      6|   4.0|964982224|\n",
      "|     1|     47|   5.0|964983815|\n",
      "|     1|     50|   5.0|964982931|\n",
      "|     1|     70|   3.0|964982400|\n",
      "|     1|    101|   5.0|964980868|\n",
      "|     1|    110|   4.0|964982176|\n",
      "|     1|    151|   5.0|964984041|\n",
      "|     1|    157|   5.0|964984100|\n",
      "+------+-------+------+---------+\n",
      "only showing top 10 rows\n",
      "\n"
     ]
    }
   ],
   "source": [
    "ratings.show(10)"
   ]
  },
  {
   "cell_type": "code",
   "execution_count": 25,
   "metadata": {},
   "outputs": [
    {
     "name": "stdout",
     "output_type": "stream",
     "text": [
      "+------+-------+------+---------+--------------------+--------------------+\n",
      "|userId|movieId|rating|timestamp|               title|              genres|\n",
      "+------+-------+------+---------+--------------------+--------------------+\n",
      "|     1|      1|   4.0|964982703|    Toy Story (1995)|Adventure|Animati...|\n",
      "|     1|      3|   4.0|964981247|Grumpier Old Men ...|      Comedy|Romance|\n",
      "|     1|      6|   4.0|964982224|         Heat (1995)|Action|Crime|Thri...|\n",
      "|     1|     47|   5.0|964983815|Seven (a.k.a. Se7...|    Mystery|Thriller|\n",
      "|     1|     50|   5.0|964982931|Usual Suspects, T...|Crime|Mystery|Thr...|\n",
      "|     1|     70|   3.0|964982400|From Dusk Till Da...|Action|Comedy|Hor...|\n",
      "|     1|    101|   5.0|964980868|Bottle Rocket (1996)|Adventure|Comedy|...|\n",
      "|     1|    110|   4.0|964982176|   Braveheart (1995)|    Action|Drama|War|\n",
      "|     1|    151|   5.0|964984041|      Rob Roy (1995)|Action|Drama|Roma...|\n",
      "|     1|    157|   5.0|964984100|Canadian Bacon (1...|          Comedy|War|\n",
      "|     1|    163|   5.0|964983650|    Desperado (1995)|Action|Romance|We...|\n",
      "|     1|    216|   5.0|964981208|Billy Madison (1995)|              Comedy|\n",
      "|     1|    223|   3.0|964980985|       Clerks (1994)|              Comedy|\n",
      "|     1|    231|   5.0|964981179|Dumb & Dumber (Du...|    Adventure|Comedy|\n",
      "|     1|    235|   4.0|964980908|      Ed Wood (1994)|        Comedy|Drama|\n",
      "|     1|    260|   5.0|964981680|Star Wars: Episod...|Action|Adventure|...|\n",
      "|     1|    296|   3.0|964982967| Pulp Fiction (1994)|Comedy|Crime|Dram...|\n",
      "|     1|    316|   3.0|964982310|     Stargate (1994)|Action|Adventure|...|\n",
      "|     1|    333|   5.0|964981179|    Tommy Boy (1995)|              Comedy|\n",
      "|     1|    349|   4.0|964982563|Clear and Present...|Action|Crime|Dram...|\n",
      "+------+-------+------+---------+--------------------+--------------------+\n",
      "only showing top 20 rows\n",
      "\n"
     ]
    }
   ],
   "source": [
    "left_join = ratings.join(movies, ratings.movieId == movies.movieId,how='left').drop(movies.movieId)\n",
    "left_join.show()"
   ]
  },
  {
   "cell_type": "code",
   "execution_count": 103,
   "metadata": {},
   "outputs": [
    {
     "name": "stdout",
     "output_type": "stream",
     "text": [
      "root\n",
      " |-- userId: integer (nullable = true)\n",
      " |-- movieId: integer (nullable = true)\n",
      " |-- rating: double (nullable = true)\n",
      " |-- timestamp: integer (nullable = true)\n",
      " |-- title: string (nullable = true)\n",
      " |-- genres: string (nullable = true)\n",
      "\n"
     ]
    }
   ],
   "source": [
    "left_join.printSchema()"
   ]
  },
  {
   "cell_type": "code",
   "execution_count": null,
   "metadata": {},
   "outputs": [],
   "source": []
  },
  {
   "cell_type": "markdown",
   "metadata": {},
   "source": [
    "Split data into a train and test (80%, 20%)"
   ]
  },
  {
   "cell_type": "code",
   "execution_count": 155,
   "metadata": {},
   "outputs": [],
   "source": [
    "(training, test) = left_join.randomSplit([0.8, 0.2])"
   ]
  },
  {
   "cell_type": "code",
   "execution_count": 157,
   "metadata": {},
   "outputs": [],
   "source": [
    "als = ALS(maxIter=5, regParam=0.01, userCol=\"userId\", itemCol=\"movieId\", ratingCol=\"rating\",\n",
    "          coldStartStrategy=\"drop\")\n",
    "model = als.fit(training)"
   ]
  },
  {
   "cell_type": "markdown",
   "metadata": {},
   "source": [
    "Evaluate the model by computing the RMSE on the test data"
   ]
  },
  {
   "cell_type": "code",
   "execution_count": 43,
   "metadata": {},
   "outputs": [
    {
     "name": "stdout",
     "output_type": "stream",
     "text": [
      "Root-mean-square error = 3.228243711476414\n"
     ]
    }
   ],
   "source": [
    "predictions = model.transform(test)\n",
    "evaluator = RegressionEvaluator(metricName=\"rmse\", labelCol=\"rating\",\n",
    "                                predictionCol=\"prediction\")\n",
    "rmse = evaluator.evaluate(predictions)\n",
    "print(\"Root-mean-square error = \" + str(rmse))"
   ]
  },
  {
   "cell_type": "code",
   "execution_count": 96,
   "metadata": {},
   "outputs": [
    {
     "name": "stdout",
     "output_type": "stream",
     "text": [
      "+------+-------+------+----------+------------+\n",
      "|userId|movieId|rating| timestamp|  prediction|\n",
      "+------+-------+------+----------+------------+\n",
      "|   436|    471|   3.0| 833530187|    0.414125|\n",
      "|   602|    471|   4.0| 840876085|  0.48642504|\n",
      "|   599|    471|   2.5|1498518822|   1.0633253|\n",
      "|   474|    471|   3.0| 974668858|  0.81399006|\n",
      "|   610|    471|   4.0|1479544381|   0.6199909|\n",
      "|   520|    471|   5.0|1326609921|  0.13701607|\n",
      "|   171|    471|   3.0| 866905683|  0.34739882|\n",
      "|   287|    471|   4.5|1110231536|  0.13957405|\n",
      "|   132|   1088|   4.0|1329984080|   0.7038103|\n",
      "|   169|   1088|   4.5|1059427717|  0.76083577|\n",
      "|   594|   1088|   4.5|1109035643|   0.4103617|\n",
      "|   555|   1088|   4.0| 978822670|0.0028916895|\n",
      "|   509|   1088|   3.0|1435992808|  0.49467292|\n",
      "|    10|   1088|   3.0|1455619275|   0.2956672|\n",
      "|   226|   1088|   1.0|1096420160|  0.69981956|\n",
      "|    68|   1088|   3.5|1158534614|   0.8226894|\n",
      "|   525|   1088|   4.5|1476478367|    0.701008|\n",
      "|   600|   1088|   3.5|1237851304|   0.9156157|\n",
      "|    42|   1088|   3.0| 996259001|   0.2060517|\n",
      "|   268|   1238|   5.0| 940183153|  0.18502899|\n",
      "+------+-------+------+----------+------------+\n",
      "only showing top 20 rows\n",
      "\n"
     ]
    }
   ],
   "source": [
    "predictions.show()"
   ]
  },
  {
   "cell_type": "code",
   "execution_count": 99,
   "metadata": {},
   "outputs": [
    {
     "data": {
      "text/plain": [
       "19517"
      ]
     },
     "execution_count": 99,
     "metadata": {},
     "output_type": "execute_result"
    }
   ],
   "source": [
    "predictions.count()"
   ]
  },
  {
   "cell_type": "code",
   "execution_count": 181,
   "metadata": {},
   "outputs": [
    {
     "name": "stdout",
     "output_type": "stream",
     "text": [
      "+------+--------------------+\n",
      "|userId|     recommendations|\n",
      "+------+--------------------+\n",
      "|   471|[[125, 7.7852674]...|\n",
      "|   463|[[58301, 8.079834...|\n",
      "|   496|[[3040, 8.632759]...|\n",
      "|   148|[[3706, 6.3504624...|\n",
      "|   540|[[6380, 6.9957333...|\n",
      "|   392|[[3676, 11.172484...|\n",
      "|   243|[[1194, 11.535083...|\n",
      "|    31|[[3706, 9.906838]...|\n",
      "|   516|[[932, 7.6115174]...|\n",
      "|   580|[[74946, 6.927839...|\n",
      "|   251|[[3030, 8.3793745...|\n",
      "|   451|[[3676, 9.67052],...|\n",
      "|    85|[[1023, 6.7239294...|\n",
      "|   137|[[2290, 7.179303]...|\n",
      "|    65|[[3676, 7.5541143...|\n",
      "|   458|[[1227, 10.629131...|\n",
      "|   481|[[8372, 7.0657144...|\n",
      "|    53|[[58301, 7.958368...|\n",
      "|   255|[[34338, 10.44445...|\n",
      "|   588|[[34338, 8.944455...|\n",
      "+------+--------------------+\n",
      "only showing top 20 rows\n",
      "\n"
     ]
    }
   ],
   "source": [
    "# Generate top 10 movie recommendations for each user\n",
    "user_Recs = model.recommendForAllUsers(10)\n",
    "user_Recs.show()"
   ]
  },
  {
   "cell_type": "code",
   "execution_count": null,
   "metadata": {},
   "outputs": [],
   "source": []
  },
  {
   "cell_type": "code",
   "execution_count": 111,
   "metadata": {},
   "outputs": [],
   "source": [
    "# Recs = user_Recs.show(10, False)"
   ]
  },
  {
   "cell_type": "code",
   "execution_count": 225,
   "metadata": {},
   "outputs": [
    {
     "name": "stdout",
     "output_type": "stream",
     "text": [
      "+------+--------------------+\n",
      "|userID|     recommendations|\n",
      "+------+--------------------+\n",
      "|   471|[[125, 7.7852674]...|\n",
      "|   463|[[58301, 8.079834...|\n",
      "|   496|[[3040, 8.632759]...|\n",
      "|   148|[[3706, 6.3504624...|\n",
      "|   540|[[6380, 6.9957333...|\n",
      "|   392|[[3676, 11.172484...|\n",
      "|   243|[[1194, 11.535083...|\n",
      "|    31|[[3706, 9.906838]...|\n",
      "|   516|[[932, 7.6115174]...|\n",
      "|   580|[[74946, 6.927839...|\n",
      "|   251|[[3030, 8.3793745...|\n",
      "|   451|[[3676, 9.67052],...|\n",
      "|    85|[[1023, 6.7239294...|\n",
      "|   137|[[2290, 7.179303]...|\n",
      "|    65|[[3676, 7.5541143...|\n",
      "|   458|[[1227, 10.629131...|\n",
      "|   481|[[8372, 7.0657144...|\n",
      "|    53|[[58301, 7.958368...|\n",
      "|   255|[[34338, 10.44445...|\n",
      "|   588|[[34338, 8.944455...|\n",
      "+------+--------------------+\n",
      "only showing top 20 rows\n",
      "\n"
     ]
    }
   ],
   "source": [
    "Recs = user_Recs.select('userID', 'recommendations')\n",
    "Recs.show()"
   ]
  },
  {
   "cell_type": "code",
   "execution_count": 226,
   "metadata": {},
   "outputs": [
    {
     "name": "stdout",
     "output_type": "stream",
     "text": [
      "+------+------------------+\n",
      "|userID|    recommendation|\n",
      "+------+------------------+\n",
      "|   471|  [125, 7.7852674]|\n",
      "|   471|[103228, 7.425807]|\n",
      "|   471|  [3200, 7.328513]|\n",
      "|   471|   [799, 7.327564]|\n",
      "|   471| [7169, 7.2728186]|\n",
      "|   471|  [2606, 7.185232]|\n",
      "|   471|[91976, 7.1404986]|\n",
      "|   471|[171763, 6.820062]|\n",
      "|   471|    [909, 6.81581]|\n",
      "|   471|[57274, 6.8148074]|\n",
      "|   463| [58301, 8.079834]|\n",
      "|   463| [51931, 7.510384]|\n",
      "|   463|  [3040, 7.056519]|\n",
      "|   463|[72167, 6.9219775]|\n",
      "|   463|  [4102, 6.764217]|\n",
      "|   463| [2148, 6.7388506]|\n",
      "|   463|  [417, 6.6251793]|\n",
      "|   463| [2517, 6.5438347]|\n",
      "|   463|[53123, 6.5398726]|\n",
      "|   463| [34338, 6.513316]|\n",
      "+------+------------------+\n",
      "only showing top 20 rows\n",
      "\n"
     ]
    }
   ],
   "source": [
    "user_recommendations = model.recommendForAllUsers(10)\n",
    "user_recommendations = Recs.withColumn(\"recommendation\", explode(\"recommendations\"))\n",
    "user_recommendations = user_recommendations.drop('recommendations')\n",
    "user_recommendations.show()"
   ]
  },
  {
   "cell_type": "code",
   "execution_count": 227,
   "metadata": {},
   "outputs": [
    {
     "name": "stdout",
     "output_type": "stream",
     "text": [
      "+------+-------+---------+\n",
      "|userId|movieId|   rating|\n",
      "+------+-------+---------+\n",
      "|   471|    125|7.7852674|\n",
      "|   471| 103228| 7.425807|\n",
      "|   471|   3200| 7.328513|\n",
      "|   471|    799| 7.327564|\n",
      "|   471|   7169|7.2728186|\n",
      "|   471|   2606| 7.185232|\n",
      "|   471|  91976|7.1404986|\n",
      "|   471| 171763| 6.820062|\n",
      "|   471|    909|  6.81581|\n",
      "|   471|  57274|6.8148074|\n",
      "|   463|  58301| 8.079834|\n",
      "|   463|  51931| 7.510384|\n",
      "|   463|   3040| 7.056519|\n",
      "|   463|  72167|6.9219775|\n",
      "|   463|   4102| 6.764217|\n",
      "|   463|   2148|6.7388506|\n",
      "|   463|    417|6.6251793|\n",
      "|   463|   2517|6.5438347|\n",
      "|   463|  53123|6.5398726|\n",
      "|   463|  34338| 6.513316|\n",
      "+------+-------+---------+\n",
      "only showing top 20 rows\n",
      "\n"
     ]
    }
   ],
   "source": [
    "user_recommendations = user_recommendations.select(\n",
    "'userId',\n",
    "'recommendation.movieId',\n",
    "'recommendation.rating'\n",
    ")\n",
    "\n",
    "user_recommendations.show()\n"
   ]
  },
  {
   "cell_type": "code",
   "execution_count": 243,
   "metadata": {},
   "outputs": [
    {
     "name": "stdout",
     "output_type": "stream",
     "text": [
      "+------+-------+---------+--------------------+--------------------+\n",
      "|userId|movieId|timestamp|               title|              genres|\n",
      "+------+-------+---------+--------------------+--------------------+\n",
      "|     1|      1|964982703|    Toy Story (1995)|Adventure|Animati...|\n",
      "|     1|      3|964981247|Grumpier Old Men ...|      Comedy|Romance|\n",
      "|     1|      6|964982224|         Heat (1995)|Action|Crime|Thri...|\n",
      "|     1|     47|964983815|Seven (a.k.a. Se7...|    Mystery|Thriller|\n",
      "|     1|     50|964982931|Usual Suspects, T...|Crime|Mystery|Thr...|\n",
      "|     1|     70|964982400|From Dusk Till Da...|Action|Comedy|Hor...|\n",
      "|     1|    101|964980868|Bottle Rocket (1996)|Adventure|Comedy|...|\n",
      "|     1|    110|964982176|   Braveheart (1995)|    Action|Drama|War|\n",
      "|     1|    151|964984041|      Rob Roy (1995)|Action|Drama|Roma...|\n",
      "|     1|    157|964984100|Canadian Bacon (1...|          Comedy|War|\n",
      "|     1|    163|964983650|    Desperado (1995)|Action|Romance|We...|\n",
      "|     1|    216|964981208|Billy Madison (1995)|              Comedy|\n",
      "|     1|    223|964980985|       Clerks (1994)|              Comedy|\n",
      "|     1|    231|964981179|Dumb & Dumber (Du...|    Adventure|Comedy|\n",
      "|     1|    235|964980908|      Ed Wood (1994)|        Comedy|Drama|\n",
      "|     1|    260|964981680|Star Wars: Episod...|Action|Adventure|...|\n",
      "|     1|    296|964982967| Pulp Fiction (1994)|Comedy|Crime|Dram...|\n",
      "|     1|    316|964982310|     Stargate (1994)|Action|Adventure|...|\n",
      "|     1|    333|964981179|    Tommy Boy (1995)|              Comedy|\n",
      "|     1|    349|964982563|Clear and Present...|Action|Crime|Dram...|\n",
      "+------+-------+---------+--------------------+--------------------+\n",
      "only showing top 20 rows\n",
      "\n"
     ]
    }
   ],
   "source": [
    "new_join = left_join.drop('rating')\n",
    "new_join.show()"
   ]
  },
  {
   "cell_type": "code",
   "execution_count": 244,
   "metadata": {},
   "outputs": [
    {
     "name": "stdout",
     "output_type": "stream",
     "text": [
      "+------+-------+---------+----------+--------------------+--------------------+\n",
      "|userId|movieId|   rating| timestamp|               title|              genres|\n",
      "+------+-------+---------+----------+--------------------+--------------------+\n",
      "|   148|   3706|6.3504624|1482548476| Forrest Gump (1994)|Comedy|Drama|Roma...|\n",
      "|   148|   3706|6.3504624|1482548478|Princess Bride, T...|Action|Adventure|...|\n",
      "|   148|   3706|6.3504624|1482548613| Moulin Rouge (2001)|Drama|Musical|Rom...|\n",
      "|   148|   3706|6.3504624|1482548505|Monsters, Inc. (2...|Adventure|Animati...|\n",
      "|   148|   3706|6.3504624|1482548717|Harry Potter and ...|Adventure|Childre...|\n",
      "|   148|   3706|6.3504624|1482548771|Lord of the Rings...|   Adventure|Fantasy|\n",
      "|   148|   3706|6.3504624|1482548682|Spirited Away (Se...|Adventure|Animati...|\n",
      "|   148|   3706|6.3504624|1482548755|Harry Potter and ...|   Adventure|Fantasy|\n",
      "|   148|   3706|6.3504624|1482548769|Lord of the Rings...|   Adventure|Fantasy|\n",
      "|   148|   3706|6.3504624|1482548514| Finding Nemo (2003)|Adventure|Animati...|\n",
      "|   148|   3706|6.3504624|1482548769|Lord of the Rings...|Action|Adventure|...|\n",
      "|   148|   3706|6.3504624|1482548676|Harry Potter and ...|Adventure|Fantasy...|\n",
      "|   148|   3706|6.3504624|1482548570|Phantom of the Op...|Drama|Musical|Rom...|\n",
      "|   148|   3706|6.3504624|1482548683|Howl's Moving Cas...|Adventure|Animati...|\n",
      "|   148|   3706|6.3504624|1482548578|Pride & Prejudice...|       Drama|Romance|\n",
      "|   148|   3706|6.3504624|1482548512|Harry Potter and ...|Adventure|Fantasy...|\n",
      "|   148|   3706|6.3504624|1482550089|V for Vendetta (2...|Action|Sci-Fi|Thr...|\n",
      "|   148|   3706|6.3504624|1482548504|  Ratatouille (2007)|Animation|Childre...|\n",
      "|   148|   3706|6.3504624|1482548674|Harry Potter and ...|Adventure|Drama|F...|\n",
      "|   148|   3706|6.3504624|1482548484|       WALL·E (2008)|Adventure|Animati...|\n",
      "+------+-------+---------+----------+--------------------+--------------------+\n",
      "only showing top 20 rows\n",
      "\n"
     ]
    }
   ],
   "source": [
    "Recs_Join = user_recommendations.join(new_join, on=['userID'], how='left').drop(new_join.movieId)\n",
    "Recs_Join.show()"
   ]
  },
  {
   "cell_type": "code",
   "execution_count": 245,
   "metadata": {},
   "outputs": [
    {
     "name": "stdout",
     "output_type": "stream",
     "text": [
      "+------+-------+---------+--------------------+\n",
      "|userId|movieId|   rating|               title|\n",
      "+------+-------+---------+--------------------+\n",
      "|   148|   3706|6.3504624| Forrest Gump (1994)|\n",
      "|   148|   3706|6.3504624|Princess Bride, T...|\n",
      "|   148|   3706|6.3504624| Moulin Rouge (2001)|\n",
      "|   148|   3706|6.3504624|Monsters, Inc. (2...|\n",
      "|   148|   3706|6.3504624|Harry Potter and ...|\n",
      "|   148|   3706|6.3504624|Lord of the Rings...|\n",
      "|   148|   3706|6.3504624|Spirited Away (Se...|\n",
      "|   148|   3706|6.3504624|Harry Potter and ...|\n",
      "|   148|   3706|6.3504624|Lord of the Rings...|\n",
      "|   148|   3706|6.3504624| Finding Nemo (2003)|\n",
      "|   148|   3706|6.3504624|Lord of the Rings...|\n",
      "|   148|   3706|6.3504624|Harry Potter and ...|\n",
      "|   148|   3706|6.3504624|Phantom of the Op...|\n",
      "|   148|   3706|6.3504624|Howl's Moving Cas...|\n",
      "|   148|   3706|6.3504624|Pride & Prejudice...|\n",
      "|   148|   3706|6.3504624|Harry Potter and ...|\n",
      "|   148|   3706|6.3504624|V for Vendetta (2...|\n",
      "|   148|   3706|6.3504624|  Ratatouille (2007)|\n",
      "|   148|   3706|6.3504624|Harry Potter and ...|\n",
      "|   148|   3706|6.3504624|       WALL·E (2008)|\n",
      "+------+-------+---------+--------------------+\n",
      "only showing top 20 rows\n",
      "\n"
     ]
    }
   ],
   "source": [
    "columns_to_drop = ['timestamp', 'genres']\n",
    "Final_Recs = Recs_Join.drop(*columns_to_drop)\n",
    "Final_Recs.show()"
   ]
  },
  {
   "cell_type": "code",
   "execution_count": 246,
   "metadata": {},
   "outputs": [
    {
     "name": "stdout",
     "output_type": "stream",
     "text": [
      "+------+-------+---------+----------------------------------+\n",
      "|userId|movieId|rating   |title                             |\n",
      "+------+-------+---------+----------------------------------+\n",
      "|127   |535    |11.879617|Madness of King George, The (1994)|\n",
      "|127   |535    |11.879617|Vertigo (1958)                    |\n",
      "|127   |535    |11.879617|Some Like It Hot (1959)           |\n",
      "|127   |535    |11.879617|Maltese Falcon, The (1941)        |\n",
      "|127   |535    |11.879617|Cool Hand Luke (1967)             |\n",
      "|127   |535    |11.879617|Field of Dreams (1989)            |\n",
      "|127   |535    |11.879617|Wag the Dog (1997)                |\n",
      "|127   |535    |11.879617|West Side Story (1961)            |\n",
      "|127   |535    |11.879617|Driving Miss Daisy (1989)         |\n",
      "|127   |535    |11.879617|Splash (1984)                     |\n",
      "|127   |535    |11.879617|Sixteen Candles (1984)            |\n",
      "|127   |535    |11.879617|Fly, The (1986)                   |\n",
      "|127   |535    |11.879617|Thomas Crown Affair, The (1999)   |\n",
      "|127   |535    |11.879617|Risky Business (1983)             |\n",
      "|127   |535    |11.879617|Trading Places (1983)             |\n",
      "|127   |535    |11.879617|Fatal Attraction (1987)           |\n",
      "|127   |535    |11.879617|Blazing Saddles (1974)            |\n",
      "|127   |535    |11.879617|Memento (2000)                    |\n",
      "|127   |535    |11.879617|M*A*S*H (a.k.a. MASH) (1970)      |\n",
      "|127   |535    |11.879617|Constant Gardener, The (2005)     |\n",
      "+------+-------+---------+----------------------------------+\n",
      "only showing top 20 rows\n",
      "\n",
      "+------+-------+--------+-----------------------------------------------+\n",
      "|userId|movieId|rating  |title                                          |\n",
      "+------+-------+--------+-----------------------------------------------+\n",
      "|151   |932    |6.670639|Toy Story (1995)                               |\n",
      "|151   |932    |6.670639|Grumpier Old Men (1995)                        |\n",
      "|151   |932    |6.670639|Sudden Death (1995)                            |\n",
      "|151   |932    |6.670639|Dracula: Dead and Loving It (1995)             |\n",
      "|151   |932    |6.670639|Mr. Holland's Opus (1995)                      |\n",
      "|151   |932    |6.670639|Big Bully (1996)                               |\n",
      "|151   |932    |6.670639|Mary Reilly (1996)                             |\n",
      "|151   |932    |6.670639|Broken Arrow (1996)                            |\n",
      "|151   |932    |6.670639|Mr. Wrong (1996)                               |\n",
      "|151   |932    |6.670639|Happy Gilmore (1996)                           |\n",
      "|151   |932    |6.670639|Muppet Treasure Island (1996)                  |\n",
      "|151   |932    |6.670639|Down Periscope (1996)                          |\n",
      "|151   |932    |6.670639|Birdcage, The (1996)                           |\n",
      "|151   |932    |6.670639|Billy Madison (1995)                           |\n",
      "|151   |932    |6.670639|Welcome to the Dollhouse (1995)                |\n",
      "|151   |932    |6.670639|Homeward Bound II: Lost in San Francisco (1996)|\n",
      "|151   |932    |6.670639|All Dogs Go to Heaven 2 (1996)                 |\n",
      "|151   |932    |6.670639|Theodore Rex (1995)                            |\n",
      "|151   |932    |6.670639|Mission: Impossible (1996)                     |\n",
      "|151   |932    |6.670639|Eddie (1996)                                   |\n",
      "+------+-------+--------+-----------------------------------------------+\n",
      "only showing top 20 rows\n",
      "\n",
      "+------+-------+---------+----------------------------------------------------+\n",
      "|userId|movieId|rating   |title                                               |\n",
      "+------+-------+---------+----------------------------------------------------+\n",
      "|300   |89118  |7.2611704|Shawshank Redemption, The (1994)                    |\n",
      "|300   |89118  |7.2611704|Forrest Gump (1994)                                 |\n",
      "|300   |89118  |7.2611704|Schindler's List (1993)                             |\n",
      "|300   |89118  |7.2611704|Silence of the Lambs, The (1991)                    |\n",
      "|300   |89118  |7.2611704|Cinema Paradiso (Nuovo cinema Paradiso) (1989)      |\n",
      "|300   |89118  |7.2611704|Good Will Hunting (1997)                            |\n",
      "|300   |89118  |7.2611704|Saving Private Ryan (1998)                          |\n",
      "|300   |89118  |7.2611704|Life Is Beautiful (La Vita è bella) (1997)          |\n",
      "|300   |89118  |7.2611704|American History X (1998)                           |\n",
      "|300   |89118  |7.2611704|Matrix, The (1999)                                  |\n",
      "|300   |89118  |7.2611704|Sixth Sense, The (1999)                             |\n",
      "|300   |89118  |7.2611704|American Beauty (1999)                              |\n",
      "|300   |89118  |7.2611704|Fight Club (1999)                                   |\n",
      "|300   |89118  |7.2611704|Mulholland Drive (2001)                             |\n",
      "|300   |89118  |7.2611704|Amelie (Fabuleux destin d'Amélie Poulain, Le) (2001)|\n",
      "|300   |89118  |7.2611704|Pianist, The (2002)                                 |\n",
      "|300   |89118  |7.2611704|City of God (Cidade de Deus) (2002)                 |\n",
      "|300   |89118  |7.2611704|Lost in Translation (2003)                          |\n",
      "|300   |89118  |7.2611704|Eternal Sunshine of the Spotless Mind (2004)        |\n",
      "|300   |89118  |7.2611704|The Machinist (2004)                                |\n",
      "+------+-------+---------+----------------------------------------------------+\n",
      "only showing top 20 rows\n",
      "\n"
     ]
    }
   ],
   "source": [
    "Final_Recs[Final_Recs['userId'] == 127].show(truncate=False)\n",
    "Final_Recs[Final_Recs['userId'] == 151].show(truncate=False)\n",
    "Final_Recs[Final_Recs['userId'] == 300].show(truncate=False)"
   ]
  },
  {
   "cell_type": "code",
   "execution_count": null,
   "metadata": {},
   "outputs": [],
   "source": []
  },
  {
   "cell_type": "code",
   "execution_count": null,
   "metadata": {},
   "outputs": [],
   "source": []
  },
  {
   "cell_type": "code",
   "execution_count": null,
   "metadata": {},
   "outputs": [],
   "source": []
  }
 ],
 "metadata": {
  "kernelspec": {
   "display_name": "Python 3",
   "language": "python",
   "name": "python3"
  },
  "language_info": {
   "codemirror_mode": {
    "name": "ipython",
    "version": 3
   },
   "file_extension": ".py",
   "mimetype": "text/x-python",
   "name": "python",
   "nbconvert_exporter": "python",
   "pygments_lexer": "ipython3",
   "version": "3.7.6"
  }
 },
 "nbformat": 4,
 "nbformat_minor": 4
}
